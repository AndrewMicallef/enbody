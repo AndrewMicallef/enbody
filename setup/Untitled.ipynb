{
 "cells": [
  {
   "cell_type": "code",
   "execution_count": 1,
   "id": "mighty-harvey",
   "metadata": {},
   "outputs": [],
   "source": [
    "import numpy as np\n",
    "import matplotlib.pyplot as plt\n",
    "\n",
    "from PIL import Image\n"
   ]
  },
  {
   "cell_type": "code",
   "execution_count": 2,
   "id": "convenient-albany",
   "metadata": {},
   "outputs": [],
   "source": [
    "ww, hh = 800, 800\n",
    "ox, oy = 400,400\n",
    "N_resource = 20\n",
    "N_agent = ww*hh\n",
    "R_agent = 1/ww * 5\n",
    "\n",
    "# place the seed of the organism in the centre of the image\n",
    "organism = np.zeros((ww,hh), dtype='f8')\n",
    "organism[ox-1:ox+1,oy-1:oy+1] = 1\n",
    "Atrail = np.zeros((ww,hh), dtype='f8' )\n",
    "Btrial = np.zeros((ww,hh), dtype = 'f8')\n",
    "\n",
    "# spawn locations\n",
    "# place resources in blobs around the perimeter\n",
    "resource_layer = np.zeros_like(organism)\n",
    "for i in range(N_resource):\n",
    "    angle = 2*np.pi * i/N_resource\n",
    "    radius = np.random.random()*oy\n",
    "    u,v = np.round(radius*np.r_[np.cos(angle), np.sin(angle)]).astype(int)\n",
    "    resource_layer[u+ox,v+oy] = 1\n",
    "\n",
    "heading = np.zeros_like(organism)\n",
    "locx = np.zeros_like(organism)\n",
    "locy = np.zeros_like(organism)\n",
    "\n",
    "radius = R_agent\n",
    "for i in range(N_agent):\n",
    "    u = i%ww\n",
    "    v = (i-i%ww) // ww\n",
    "    angle = 2*np.pi * i/N_agent\n",
    "    x,y = radius*np.r_[np.cos(angle), np.sin(angle)]\n",
    "    locx[u,v] = x\n",
    "    locy[u,v] = y\n",
    "    heading[u,v] = np.random.randint()\n",
    "\n",
    "#uvs = [(radius*np.cos(2*np.pi * i/N_agent), radius*np.sin(2*np.pi * i/N_agent)) for i in range(N_agent)]"
   ]
  },
  {
   "cell_type": "code",
   "execution_count": 3,
   "id": "certified-minneapolis",
   "metadata": {},
   "outputs": [],
   "source": [
    "def to_uint_img(imgf8):\n",
    "    return (imgf8 *255).astype('uint8')"
   ]
  },
  {
   "cell_type": "code",
   "execution_count": 4,
   "id": "hydraulic-dancing",
   "metadata": {},
   "outputs": [
    {
     "data": {
      "image/png": "[encoded data removed]",
      "text/plain": [
       "<PIL.Image.Image image mode=RGB size=800x800 at 0x17B832B8A60>"
      ]
     },
     "execution_count": 4,
     "metadata": {},
     "output_type": "execute_result"
    }
   ],
   "source": [
    "orgtex = to_uint_img(np.transpose(np.array((locx, locy, Atrail))))\n",
    "Image.fromarray(orgtex)\n",
    "#worldtex = to_uint_img(np.transpose(np.array((resource_layer, Atrail, Btrial))))"
   ]
  },
  {
   "cell_type": "code",
   "execution_count": 19,
   "id": "fifteen-mathematics",
   "metadata": {},
   "outputs": [
    {
     "data": {
      "image/png": "[encoded data removed]",
      "text/plain": [
       "<Figure size 432x288 with 1 Axes>"
      ]
     },
     "metadata": {
      "needs_background": "light"
     },
     "output_type": "display_data"
    }
   ],
   "source": [
    "plt.hist(locy[:,:].reshape(-1), bins=255);"
   ]
  },
  {
   "cell_type": "code",
   "execution_count": 26,
   "id": "configured-camera",
   "metadata": {},
   "outputs": [
    {
     "data": {
      "text/plain": [
       "<matplotlib.image.AxesImage at 0x12f4b5687c0>"
      ]
     },
     "execution_count": 26,
     "metadata": {},
     "output_type": "execute_result"
    },
    {
     "data": {
      "image/png": "[encoded data removed]",
      "text/plain": [
       "<Figure size 432x288 with 1 Axes>"
      ]
     },
     "metadata": {
      "needs_background": "light"
     },
     "output_type": "display_data"
    }
   ],
   "source": [
    "plt.imshow(np.transpose(np.array((organism, Atrail, Btrial))))"
   ]
  },
  {
   "cell_type": "code",
   "execution_count": 25,
   "id": "duplicate-butler",
   "metadata": {},
   "outputs": [
    {
     "data": {
      "text/plain": [
       "(800, 800, 3)"
      ]
     },
     "execution_count": 25,
     "metadata": {},
     "output_type": "execute_result"
    }
   ],
   "source": [
    "np.transpose(np.array((organism, Atrail, Btrial)))"
   ]
  },
  {
   "cell_type": "code",
   "execution_count": 6,
   "id": "convinced-nashville",
   "metadata": {},
   "outputs": [
    {
     "data": {
      "text/plain": [
       "\u001b[1;31mType:\u001b[0m        CClass\n",
       "\u001b[1;31mString form:\u001b[0m <numpy.lib.index_tricks.CClass object at 0x0000022ECEA05DF0>\n",
       "\u001b[1;31mLength:\u001b[0m      0\n",
       "\u001b[1;31mFile:\u001b[0m        c:\\users\\andre\\appdata\\local\\programs\\python\\python39\\lib\\site-packages\\numpy\\lib\\index_tricks.py\n",
       "\u001b[1;31mDocstring:\u001b[0m  \n",
       "Translates slice objects to concatenation along the second axis.\n",
       "\n",
       "This is short-hand for ``np.r_['-1,2,0', index expression]``, which is\n",
       "useful because of its common occurrence. In particular, arrays will be\n",
       "stacked along their last axis after being upgraded to at least 2-D with\n",
       "1's post-pended to the shape (column vectors made out of 1-D arrays).\n",
       "\n",
       "See Also\n",
       "--------\n",
       "column_stack : Stack 1-D arrays as columns into a 2-D array.\n",
       "r_ : For more detailed documentation.\n",
       "\n",
       "Examples\n",
       "--------\n",
       ">>> np.c_[np.array([1,2,3]), np.array([4,5,6])]\n",
       "array([[1, 4],\n",
       "       [2, 5],\n",
       "       [3, 6]])\n",
       ">>> np.c_[np.array([[1,2,3]]), 0, 0, np.array([[4,5,6]])]\n",
       "array([[1, 2, 3, ..., 4, 5, 6]])\n"
      ]
     },
     "metadata": {},
     "output_type": "display_data"
    }
   ],
   "source": [
    "np.c_?"
   ]
  },
  {
   "cell_type": "code",
   "execution_count": null,
   "id": "lesser-italian",
   "metadata": {},
   "outputs": [],
   "source": []
  }
 ],
 "metadata": {
  "kernelspec": {
   "display_name": "Python 3",
   "language": "python",
   "name": "python3"
  },
  "language_info": {
   "codemirror_mode": {
    "name": "ipython",
    "version": 3
   },
   "file_extension": ".py",
   "mimetype": "text/x-python",
   "name": "python",
   "nbconvert_exporter": "python",
   "pygments_lexer": "ipython3",
   "version": "3.9.2"
  }
 },
 "nbformat": 4,
 "nbformat_minor": 5
}
