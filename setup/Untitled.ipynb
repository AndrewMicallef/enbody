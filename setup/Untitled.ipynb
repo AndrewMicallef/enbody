{
 "cells": [
  {
   "cell_type": "code",
   "execution_count": 1,
   "id": "solar-cholesterol",
   "metadata": {},
   "outputs": [],
   "source": [
    "import numpy as np\n",
    "import matplotlib.pyplot as plt\n",
    "\n",
    "from PIL import Image\n"
   ]
  },
  {
   "cell_type": "code",
   "execution_count": 11,
   "id": "impossible-cabin",
   "metadata": {},
   "outputs": [],
   "source": [
    "ww, hh = 800, 800\n",
    "ox, oy = 400,400\n",
    "\n",
    "# place the seed of the organism in the centre of the image\n",
    "organism = np.zeros((ww,hh), dtype='f8')\n",
    "organism[ox-10:ox+10,oy-10:oy+10] = 1\n",
    "Atrail = np.zeros((ww,hh), dtype='f8' )\n",
    "Btrial = np.zeros((ww,hh), dtype = 'f8')\n",
    "\n",
    "# spawn locations\n",
    "# place resources in blobs around the perimeter\n",
    "resource_layer = np.zeros_like(organism)\n",
    "N_resource = 20\n",
    "for i in range(N_resource):\n",
    "    angle = 2*np.pi * i/N_resource\n",
    "    radius = 1/oy + np.random.random()*0.5\n",
    "    u,v = np.round(radius*np.r_[np.cos(angle), np.sin(angle)]*800 +400).astype(int)\n",
    "    resource_layer[u,v] = 1"
   ]
  },
  {
   "cell_type": "code",
   "execution_count": 12,
   "id": "pacific-glance",
   "metadata": {},
   "outputs": [],
   "source": [
    "def to_uint_img(imgf8):\n",
    "    return (imgf8 *255).astype('uint8')\n",
    "    "
   ]
  },
  {
   "cell_type": "code",
   "execution_count": 14,
   "id": "clean-frequency",
   "metadata": {},
   "outputs": [
    {
     "data": {
      "image/png": "[encoded data removed]",
      "text/plain": [
       "<PIL.Image.Image image mode=RGB size=800x800 at 0x12F45B705E0>"
      ]
     },
     "execution_count": 14,
     "metadata": {},
     "output_type": "execute_result"
    }
   ],
   "source": [
    "Image.fromarray(to_uint_img(np.array((organism, Atrail, Btrial))))"
   ]
  },
  {
   "cell_type": "code",
   "execution_count": 26,
   "id": "refined-timber",
   "metadata": {},
   "outputs": [
    {
     "data": {
      "text/plain": [
       "<matplotlib.image.AxesImage at 0x12f4b5687c0>"
      ]
     },
     "execution_count": 26,
     "metadata": {},
     "output_type": "execute_result"
    },
    {
     "data": {
      "image/png": "[encoded data removed]",
      "text/plain": [
       "<Figure size 432x288 with 1 Axes>"
      ]
     },
     "metadata": {
      "needs_background": "light"
     },
     "output_type": "display_data"
    }
   ],
   "source": [
    "plt.imshow(np.transpose(np.array((organism, Atrail, Btrial))))"
   ]
  },
  {
   "cell_type": "code",
   "execution_count": 25,
   "id": "controlling-bracket",
   "metadata": {},
   "outputs": [
    {
     "data": {
      "text/plain": [
       "(800, 800, 3)"
      ]
     },
     "execution_count": 25,
     "metadata": {},
     "output_type": "execute_result"
    }
   ],
   "source": [
    "np.transpose(np.array((organism, Atrail, Btrial)))"
   ]
  },
  {
   "cell_type": "code",
   "execution_count": 6,
   "id": "subject-drive",
   "metadata": {},
   "outputs": [
    {
     "data": {
      "text/plain": [
       "\u001b[1;31mType:\u001b[0m        CClass\n",
       "\u001b[1;31mString form:\u001b[0m <numpy.lib.index_tricks.CClass object at 0x0000022ECEA05DF0>\n",
       "\u001b[1;31mLength:\u001b[0m      0\n",
       "\u001b[1;31mFile:\u001b[0m        c:\\users\\andre\\appdata\\local\\programs\\python\\python39\\lib\\site-packages\\numpy\\lib\\index_tricks.py\n",
       "\u001b[1;31mDocstring:\u001b[0m  \n",
       "Translates slice objects to concatenation along the second axis.\n",
       "\n",
       "This is short-hand for ``np.r_['-1,2,0', index expression]``, which is\n",
       "useful because of its common occurrence. In particular, arrays will be\n",
       "stacked along their last axis after being upgraded to at least 2-D with\n",
       "1's post-pended to the shape (column vectors made out of 1-D arrays).\n",
       "\n",
       "See Also\n",
       "--------\n",
       "column_stack : Stack 1-D arrays as columns into a 2-D array.\n",
       "r_ : For more detailed documentation.\n",
       "\n",
       "Examples\n",
       "--------\n",
       ">>> np.c_[np.array([1,2,3]), np.array([4,5,6])]\n",
       "array([[1, 4],\n",
       "       [2, 5],\n",
       "       [3, 6]])\n",
       ">>> np.c_[np.array([[1,2,3]]), 0, 0, np.array([[4,5,6]])]\n",
       "array([[1, 2, 3, ..., 4, 5, 6]])\n"
      ]
     },
     "metadata": {},
     "output_type": "display_data"
    }
   ],
   "source": [
    "np.c_?"
   ]
  },
  {
   "cell_type": "code",
   "execution_count": null,
   "id": "casual-reach",
   "metadata": {},
   "outputs": [],
   "source": []
  }
 ],
 "metadata": {
  "kernelspec": {
   "display_name": "Python 3",
   "language": "python",
   "name": "python3"
  },
  "language_info": {
   "codemirror_mode": {
    "name": "ipython",
    "version": 3
   },
   "file_extension": ".py",
   "mimetype": "text/x-python",
   "name": "python",
   "nbconvert_exporter": "python",
   "pygments_lexer": "ipython3",
   "version": "3.9.2"
  }
 },
 "nbformat": 4,
 "nbformat_minor": 5
}
